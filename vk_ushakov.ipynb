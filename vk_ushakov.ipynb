{
 "cells": [
  {
   "cell_type": "code",
   "execution_count": null,
   "id": "53b8b8df",
   "metadata": {},
   "outputs": [],
   "source": [
    "import time\n"
   ]
  },
  {
   "cell_type": "code",
   "execution_count": 32,
   "id": "b5950eea",
   "metadata": {},
   "outputs": [],
   "source": [
    "import requests"
   ]
  },
  {
   "cell_type": "code",
   "execution_count": null,
   "id": "a0774ffa",
   "metadata": {},
   "outputs": [],
   "source": [
    "ACCESS_TOKEN =  #тут был токен\n",
    "GROUP_SHORT_NAME = 'doublebubbletea'\n",
    "def get_group_id(group_name):\n",
    "    url = 'https://api.vk.com/method/utils.resolveScreenName'\n",
    "    params = {\n",
    "        'screen_name': group_name,\n",
    "        'access_token': ACCESS_TOKEN,\n",
    "        'v': '5.199'\n",
    "    }\n",
    "    r = requests.get(url, params=params).json()\n",
    "    return -r['response']['object_id']"
   ]
  },
  {
   "cell_type": "code",
   "execution_count": 37,
   "id": "f17850c6",
   "metadata": {},
   "outputs": [],
   "source": [
    "def get_all_posts(owner_id):\n",
    "    all_posts = []\n",
    "    offset = 0\n",
    "    while True:\n",
    "        url = 'https://api.vk.com/method/wall.get'\n",
    "        params = {\n",
    "            'owner_id': owner_id,\n",
    "            'count': 100,\n",
    "            'offset': offset,\n",
    "            'access_token': ACCESS_TOKEN,\n",
    "            'v': '5.199'\n",
    "        }\n",
    "        r = requests.get(url, params=params).json()\n",
    "        items = r.get('response', {}).get('items', [])\n",
    "        if not items:\n",
    "            break\n",
    "        all_posts.extend(items)\n",
    "        offset += 100\n",
    "        time.sleep(0.33)\n",
    "    return all_posts\n"
   ]
  },
  {
   "cell_type": "code",
   "execution_count": 38,
   "id": "0fdf6e3a",
   "metadata": {},
   "outputs": [],
   "source": [
    "group_id = get_group_id(GROUP_SHORT_NAME)\n",
    "posts = get_all_posts(group_id)"
   ]
  },
  {
   "cell_type": "code",
   "execution_count": 40,
   "id": "6302ef4c",
   "metadata": {},
   "outputs": [],
   "source": [
    "def build_dataframe(posts):\n",
    "    data = []\n",
    "    for post in posts:\n",
    "        text = post.get('text', '').strip().replace('\\n', ' ')\n",
    "        likes = post.get('likes', {}).get('count', 0)\n",
    "        views = post.get('views', {}).get('count', 0)\n",
    "        date = pd.to_datetime(post.get('date', 0), unit='s')  \n",
    "        data.append({'date': date, 'text': text, 'likes': likes, 'views': views})\n",
    "    df = pd.DataFrame(data)\n",
    "    return df"
   ]
  },
  {
   "cell_type": "code",
   "execution_count": 41,
   "id": "3dd880fb",
   "metadata": {},
   "outputs": [],
   "source": [
    "df = build_dataframe(posts)"
   ]
  },
  {
   "cell_type": "code",
   "execution_count": 43,
   "id": "9c997407",
   "metadata": {},
   "outputs": [],
   "source": [
    "df.to_csv('vk.csv')"
   ]
  }
 ],
 "metadata": {
  "kernelspec": {
   "display_name": "Python 3",
   "language": "python",
   "name": "python3"
  },
  "language_info": {
   "codemirror_mode": {
    "name": "ipython",
    "version": 3
   },
   "file_extension": ".py",
   "mimetype": "text/x-python",
   "name": "python",
   "nbconvert_exporter": "python",
   "pygments_lexer": "ipython3",
   "version": "3.11.4"
  }
 },
 "nbformat": 4,
 "nbformat_minor": 5
}
